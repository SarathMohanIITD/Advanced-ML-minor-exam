{
 "cells": [
  {
   "cell_type": "code",
   "execution_count": 78,
   "id": "9e4d2237",
   "metadata": {},
   "outputs": [],
   "source": [
    "import pandas as pd\n",
    "import numpy as np\n",
    "from sklearn import preprocessing\n",
    "from scipy import spatial\n",
    "from sklearn.preprocessing import normalize\n",
    "from scipy import sparse\n",
    "from pyunlocbox import functions, solvers\n",
    "from scipy import spatial\n",
    "from matplotlib import pyplot as plt"
   ]
  },
  {
   "cell_type": "code",
   "execution_count": 79,
   "id": "a91b26cc",
   "metadata": {},
   "outputs": [
    {
     "data": {
      "text/html": [
       "<div>\n",
       "<style scoped>\n",
       "    .dataframe tbody tr th:only-of-type {\n",
       "        vertical-align: middle;\n",
       "    }\n",
       "\n",
       "    .dataframe tbody tr th {\n",
       "        vertical-align: top;\n",
       "    }\n",
       "\n",
       "    .dataframe thead th {\n",
       "        text-align: right;\n",
       "    }\n",
       "</style>\n",
       "<table border=\"1\" class=\"dataframe\">\n",
       "  <thead>\n",
       "    <tr style=\"text-align: right;\">\n",
       "      <th></th>\n",
       "      <th>gender</th>\n",
       "      <th>ssc_p</th>\n",
       "      <th>ssc_b</th>\n",
       "      <th>hsc_p</th>\n",
       "      <th>hsc_b</th>\n",
       "      <th>hsc_s</th>\n",
       "      <th>degree_p</th>\n",
       "      <th>degree_t</th>\n",
       "      <th>workex</th>\n",
       "      <th>etest_p</th>\n",
       "      <th>specialisation</th>\n",
       "      <th>mba_p</th>\n",
       "      <th>status</th>\n",
       "      <th>salary</th>\n",
       "    </tr>\n",
       "    <tr>\n",
       "      <th>sl_no</th>\n",
       "      <th></th>\n",
       "      <th></th>\n",
       "      <th></th>\n",
       "      <th></th>\n",
       "      <th></th>\n",
       "      <th></th>\n",
       "      <th></th>\n",
       "      <th></th>\n",
       "      <th></th>\n",
       "      <th></th>\n",
       "      <th></th>\n",
       "      <th></th>\n",
       "      <th></th>\n",
       "      <th></th>\n",
       "    </tr>\n",
       "  </thead>\n",
       "  <tbody>\n",
       "    <tr>\n",
       "      <th>1</th>\n",
       "      <td>M</td>\n",
       "      <td>67.00</td>\n",
       "      <td>Others</td>\n",
       "      <td>91.00</td>\n",
       "      <td>Others</td>\n",
       "      <td>Commerce</td>\n",
       "      <td>58.00</td>\n",
       "      <td>Sci&amp;Tech</td>\n",
       "      <td>No</td>\n",
       "      <td>55.0</td>\n",
       "      <td>Mkt&amp;HR</td>\n",
       "      <td>58.80</td>\n",
       "      <td>Placed</td>\n",
       "      <td>270000.0</td>\n",
       "    </tr>\n",
       "    <tr>\n",
       "      <th>2</th>\n",
       "      <td>M</td>\n",
       "      <td>79.33</td>\n",
       "      <td>Central</td>\n",
       "      <td>78.33</td>\n",
       "      <td>Others</td>\n",
       "      <td>Science</td>\n",
       "      <td>77.48</td>\n",
       "      <td>Sci&amp;Tech</td>\n",
       "      <td>Yes</td>\n",
       "      <td>86.5</td>\n",
       "      <td>Mkt&amp;Fin</td>\n",
       "      <td>66.28</td>\n",
       "      <td>Placed</td>\n",
       "      <td>200000.0</td>\n",
       "    </tr>\n",
       "    <tr>\n",
       "      <th>3</th>\n",
       "      <td>M</td>\n",
       "      <td>65.00</td>\n",
       "      <td>Central</td>\n",
       "      <td>68.00</td>\n",
       "      <td>Central</td>\n",
       "      <td>Arts</td>\n",
       "      <td>64.00</td>\n",
       "      <td>Comm&amp;Mgmt</td>\n",
       "      <td>No</td>\n",
       "      <td>75.0</td>\n",
       "      <td>Mkt&amp;Fin</td>\n",
       "      <td>57.80</td>\n",
       "      <td>Placed</td>\n",
       "      <td>250000.0</td>\n",
       "    </tr>\n",
       "    <tr>\n",
       "      <th>4</th>\n",
       "      <td>M</td>\n",
       "      <td>56.00</td>\n",
       "      <td>Central</td>\n",
       "      <td>52.00</td>\n",
       "      <td>Central</td>\n",
       "      <td>Science</td>\n",
       "      <td>52.00</td>\n",
       "      <td>Sci&amp;Tech</td>\n",
       "      <td>No</td>\n",
       "      <td>66.0</td>\n",
       "      <td>Mkt&amp;HR</td>\n",
       "      <td>59.43</td>\n",
       "      <td>Not Placed</td>\n",
       "      <td>NaN</td>\n",
       "    </tr>\n",
       "    <tr>\n",
       "      <th>5</th>\n",
       "      <td>M</td>\n",
       "      <td>85.80</td>\n",
       "      <td>Central</td>\n",
       "      <td>73.60</td>\n",
       "      <td>Central</td>\n",
       "      <td>Commerce</td>\n",
       "      <td>73.30</td>\n",
       "      <td>Comm&amp;Mgmt</td>\n",
       "      <td>No</td>\n",
       "      <td>96.8</td>\n",
       "      <td>Mkt&amp;Fin</td>\n",
       "      <td>55.50</td>\n",
       "      <td>Placed</td>\n",
       "      <td>425000.0</td>\n",
       "    </tr>\n",
       "  </tbody>\n",
       "</table>\n",
       "</div>"
      ],
      "text/plain": [
       "      gender  ssc_p    ssc_b  hsc_p    hsc_b     hsc_s  degree_p   degree_t  \\\n",
       "sl_no                                                                         \n",
       "1          M  67.00   Others  91.00   Others  Commerce     58.00   Sci&Tech   \n",
       "2          M  79.33  Central  78.33   Others   Science     77.48   Sci&Tech   \n",
       "3          M  65.00  Central  68.00  Central      Arts     64.00  Comm&Mgmt   \n",
       "4          M  56.00  Central  52.00  Central   Science     52.00   Sci&Tech   \n",
       "5          M  85.80  Central  73.60  Central  Commerce     73.30  Comm&Mgmt   \n",
       "\n",
       "      workex  etest_p specialisation  mba_p      status    salary  \n",
       "sl_no                                                              \n",
       "1         No     55.0         Mkt&HR  58.80      Placed  270000.0  \n",
       "2        Yes     86.5        Mkt&Fin  66.28      Placed  200000.0  \n",
       "3         No     75.0        Mkt&Fin  57.80      Placed  250000.0  \n",
       "4         No     66.0         Mkt&HR  59.43  Not Placed       NaN  \n",
       "5         No     96.8        Mkt&Fin  55.50      Placed  425000.0  "
      ]
     },
     "execution_count": 79,
     "metadata": {},
     "output_type": "execute_result"
    }
   ],
   "source": [
    "dataset = pd.read_csv('Placement_Data_Full_Class.csv',index_col='sl_no')\n",
    "dataset.head()"
   ]
  },
  {
   "cell_type": "code",
   "execution_count": 80,
   "id": "783c48d9",
   "metadata": {
    "scrolled": true
   },
   "outputs": [
    {
     "data": {
      "text/plain": [
       "8"
      ]
     },
     "execution_count": 80,
     "metadata": {},
     "output_type": "execute_result"
    }
   ],
   "source": [
    "# Categorical features\n",
    "cat_features = [feature for feature in dataset.columns if df[feature].dtype == 'O']\n",
    "len(cat_features)"
   ]
  },
  {
   "cell_type": "markdown",
   "id": "4385a9af",
   "metadata": {},
   "source": [
    "## Applying One-hot Encoding"
   ]
  },
  {
   "cell_type": "code",
   "execution_count": 81,
   "id": "10b2f618",
   "metadata": {},
   "outputs": [
    {
     "data": {
      "text/plain": [
       "(215, 658)"
      ]
     },
     "execution_count": 81,
     "metadata": {},
     "output_type": "execute_result"
    }
   ],
   "source": [
    "from sklearn.preprocessing import OneHotEncoder\n",
    "X = OneHotEncoder().fit_transform(dataset).toarray()\n",
    "y.shape"
   ]
  },
  {
   "cell_type": "markdown",
   "id": "76cfbba8",
   "metadata": {},
   "source": [
    "## Learning graph using the Q1 algorithm"
   ]
  },
  {
   "cell_type": "code",
   "execution_count": 82,
   "id": "756f9f29",
   "metadata": {},
   "outputs": [],
   "source": [
    "def mapping(n):\n",
    "    #Total number of edges\n",
    "    ne = int(n*(n-1)/2)\n",
    "    r1 = np.zeros((ne, ))\n",
    "    r2 = np.zeros((ne, ))\n",
    "    itr = 0\n",
    "    for i in np.arange(1, n):\n",
    "        r1[itr: (itr + (n - i))] = i - 1\n",
    "        r2[itr: (itr + (n - i))] = np.arange(i, n)\n",
    "        itr = itr + n - i\n",
    "    row = np.concatenate((r1, r2))\n",
    "    col = np.concatenate((np.arange(0, ne), np.arange(0, ne)))\n",
    "    values = np.ones(len(row))\n",
    "    K = sparse.coo_matrix((values, (row, col)), shape=(n, ne))\n",
    "    return lambda w: K.dot(w), lambda d: K.transpose().dot(d)\n",
    "\n",
    "\n",
    "def learngraph(X,alpha=1,beta=1,step=0.5,maxit=1000, rtol=1e-5):\n",
    "    N = X.shape[0]\n",
    "    z = spatial.distance.pdist(X,'euclidean') # calculating pairwise distance\n",
    "    w0 = np.zeros(z.shape)\n",
    "    K, Kt = mapping(N)\n",
    "    norm_K = np.sqrt(2 * (N - 1))\n",
    "    \n",
    "    # Assemble functions in the objective\n",
    "    f1 = functions.func()\n",
    "    f1._eval = lambda w: 2 * np.dot(w, z)\n",
    "    f1._prox = lambda w, gamma: np.maximum(0, w - (2 * gamma * z))\n",
    "\n",
    "    f2 = functions.func()\n",
    "    f2._eval = lambda w: - alpha * np.sum(np.log(np.maximum(\n",
    "        np.finfo(np.float64).eps, K(w))))\n",
    "    f2._prox = lambda d, gamma: np.maximum(\n",
    "        0, 0.5 * (d + np.sqrt(d**2 + (4 * alpha * gamma))))\n",
    "\n",
    "    f3 = functions.func()\n",
    "    f3._eval = lambda w: beta * np.sum(w**2)\n",
    "    f3._grad = lambda w: 2 * beta * w\n",
    "    lipg = 2 * beta\n",
    "    \n",
    "    # Rescale stepsize\n",
    "    stepsize = step / (1 + lipg + norm_K)\n",
    "\n",
    "    # Solve problem\n",
    "    solver = solvers.mlfbf(L=K, Lt=Kt, step=stepsize)\n",
    "    problem = solvers.solve([f1, f2, f3], x0=w0, solver=solver, maxit=maxit,\n",
    "                            rtol=rtol)\n",
    "\n",
    "    # Transform weight matrix from vector form to matrix form\n",
    "    W = spatial.distance.squareform(problem['sol'])\n",
    "    W[W<0] = 0\n",
    "    return W"
   ]
  },
  {
   "cell_type": "code",
   "execution_count": 83,
   "id": "c0c66da4",
   "metadata": {},
   "outputs": [
    {
     "name": "stdout",
     "output_type": "stream",
     "text": [
      "Solution found after 636 iterations:\n",
      "    objective function f(sol) = 4.889107e+02\n",
      "    stopping criterion: RTOL\n"
     ]
    }
   ],
   "source": [
    "X_norm = normalize(X, axis=0, norm='max')\n",
    "beta=5\n",
    "alpha = 1\n",
    "W = learngraph(X_norm,beta = beta,alpha = 1)"
   ]
  },
  {
   "cell_type": "code",
   "execution_count": 84,
   "id": "a4a96d0f",
   "metadata": {},
   "outputs": [
    {
     "name": "stdout",
     "output_type": "stream",
     "text": [
      "(215, 215)\n",
      "[[0.00000000e+00 1.94425404e-07 1.61308310e-06 ... 0.00000000e+00\n",
      "  3.92367779e-02 0.00000000e+00]\n",
      " [1.94425404e-07 0.00000000e+00 0.00000000e+00 ... 0.00000000e+00\n",
      "  0.00000000e+00 0.00000000e+00]\n",
      " [1.61308310e-06 0.00000000e+00 0.00000000e+00 ... 0.00000000e+00\n",
      "  6.18783410e-07 0.00000000e+00]\n",
      " ...\n",
      " [0.00000000e+00 0.00000000e+00 0.00000000e+00 ... 0.00000000e+00\n",
      "  0.00000000e+00 0.00000000e+00]\n",
      " [3.92367779e-02 0.00000000e+00 6.18783410e-07 ... 0.00000000e+00\n",
      "  0.00000000e+00 0.00000000e+00]\n",
      " [0.00000000e+00 0.00000000e+00 0.00000000e+00 ... 0.00000000e+00\n",
      "  0.00000000e+00 0.00000000e+00]]\n"
     ]
    }
   ],
   "source": [
    "print(W.shape)\n",
    "#print(np.around(W))\n",
    "print(W)"
   ]
  },
  {
   "cell_type": "code",
   "execution_count": null,
   "id": "865e8c92",
   "metadata": {},
   "outputs": [],
   "source": []
  }
 ],
 "metadata": {
  "kernelspec": {
   "display_name": "Python 3",
   "language": "python",
   "name": "python3"
  },
  "language_info": {
   "codemirror_mode": {
    "name": "ipython",
    "version": 3
   },
   "file_extension": ".py",
   "mimetype": "text/x-python",
   "name": "python",
   "nbconvert_exporter": "python",
   "pygments_lexer": "ipython3",
   "version": "3.8.8"
  }
 },
 "nbformat": 4,
 "nbformat_minor": 5
}
