{
 "cells": [
  {
   "cell_type": "markdown",
   "id": "45edb704",
   "metadata": {},
   "source": [
    "# Learning graph\n",
    "First we will learn the graph and then we will be making use of that learned graph to assign labels to unlabelled data"
   ]
  },
  {
   "cell_type": "code",
   "execution_count": 19,
   "id": "86d5e49e",
   "metadata": {},
   "outputs": [],
   "source": [
    "import numpy as np\n",
    "import pandas as pd\n",
    "from scipy import spatial\n",
    "from sklearn.preprocessing import normalize\n",
    "from scipy import sparse\n",
    "from pyunlocbox import functions, solvers\n",
    "from scipy import spatial\n",
    "from matplotlib import pyplot as pl"
   ]
  },
  {
   "cell_type": "code",
   "execution_count": 20,
   "id": "201238b1",
   "metadata": {
    "scrolled": true
   },
   "outputs": [
    {
     "data": {
      "text/html": [
       "<div>\n",
       "<style scoped>\n",
       "    .dataframe tbody tr th:only-of-type {\n",
       "        vertical-align: middle;\n",
       "    }\n",
       "\n",
       "    .dataframe tbody tr th {\n",
       "        vertical-align: top;\n",
       "    }\n",
       "\n",
       "    .dataframe thead th {\n",
       "        text-align: right;\n",
       "    }\n",
       "</style>\n",
       "<table border=\"1\" class=\"dataframe\">\n",
       "  <thead>\n",
       "    <tr style=\"text-align: right;\">\n",
       "      <th></th>\n",
       "      <th>Unnamed: 0</th>\n",
       "      <th>variance</th>\n",
       "      <th>skewness</th>\n",
       "      <th>curtosis</th>\n",
       "      <th>entropy</th>\n",
       "      <th>Class</th>\n",
       "      <th>Class</th>\n",
       "    </tr>\n",
       "  </thead>\n",
       "  <tbody>\n",
       "    <tr>\n",
       "      <th>0</th>\n",
       "      <td>0</td>\n",
       "      <td>3.62160</td>\n",
       "      <td>8.6661</td>\n",
       "      <td>-2.8073</td>\n",
       "      <td>-0.44699</td>\n",
       "      <td>0</td>\n",
       "      <td>NaN</td>\n",
       "    </tr>\n",
       "    <tr>\n",
       "      <th>1</th>\n",
       "      <td>1</td>\n",
       "      <td>4.54590</td>\n",
       "      <td>8.1674</td>\n",
       "      <td>-2.4586</td>\n",
       "      <td>-1.46210</td>\n",
       "      <td>0</td>\n",
       "      <td>NaN</td>\n",
       "    </tr>\n",
       "    <tr>\n",
       "      <th>2</th>\n",
       "      <td>2</td>\n",
       "      <td>3.86600</td>\n",
       "      <td>-2.6383</td>\n",
       "      <td>1.9242</td>\n",
       "      <td>0.10645</td>\n",
       "      <td>0</td>\n",
       "      <td>NaN</td>\n",
       "    </tr>\n",
       "    <tr>\n",
       "      <th>3</th>\n",
       "      <td>3</td>\n",
       "      <td>3.45660</td>\n",
       "      <td>9.5228</td>\n",
       "      <td>-4.0112</td>\n",
       "      <td>-3.59440</td>\n",
       "      <td>0</td>\n",
       "      <td>NaN</td>\n",
       "    </tr>\n",
       "    <tr>\n",
       "      <th>4</th>\n",
       "      <td>4</td>\n",
       "      <td>0.32924</td>\n",
       "      <td>-4.4552</td>\n",
       "      <td>4.5718</td>\n",
       "      <td>-0.98880</td>\n",
       "      <td>0</td>\n",
       "      <td>NaN</td>\n",
       "    </tr>\n",
       "  </tbody>\n",
       "</table>\n",
       "</div>"
      ],
      "text/plain": [
       "   Unnamed: 0  variance  skewness  curtosis  entropy  Class   Class\n",
       "0           0   3.62160    8.6661   -2.8073 -0.44699       0    NaN\n",
       "1           1   4.54590    8.1674   -2.4586 -1.46210       0    NaN\n",
       "2           2   3.86600   -2.6383    1.9242  0.10645       0    NaN\n",
       "3           3   3.45660    9.5228   -4.0112 -3.59440       0    NaN\n",
       "4           4   0.32924   -4.4552    4.5718 -0.98880       0    NaN"
      ]
     },
     "execution_count": 20,
     "metadata": {},
     "output_type": "execute_result"
    }
   ],
   "source": [
    "df = pd.read_csv('processed.csv')\n",
    "df.head()"
   ]
  },
  {
   "cell_type": "code",
   "execution_count": 22,
   "id": "b708ee91",
   "metadata": {},
   "outputs": [
    {
     "data": {
      "text/plain": [
       "Unnamed: 0       0\n",
       "variance         0\n",
       "skewness         0\n",
       "curtosis         0\n",
       "entropy          0\n",
       "Class            0\n",
       "Class         1372\n",
       "dtype: int64"
      ]
     },
     "execution_count": 22,
     "metadata": {},
     "output_type": "execute_result"
    }
   ],
   "source": [
    "df.isnull().sum()"
   ]
  },
  {
   "cell_type": "code",
   "execution_count": 24,
   "id": "7438d1fd",
   "metadata": {},
   "outputs": [
    {
     "data": {
      "text/html": [
       "<div>\n",
       "<style scoped>\n",
       "    .dataframe tbody tr th:only-of-type {\n",
       "        vertical-align: middle;\n",
       "    }\n",
       "\n",
       "    .dataframe tbody tr th {\n",
       "        vertical-align: top;\n",
       "    }\n",
       "\n",
       "    .dataframe thead th {\n",
       "        text-align: right;\n",
       "    }\n",
       "</style>\n",
       "<table border=\"1\" class=\"dataframe\">\n",
       "  <thead>\n",
       "    <tr style=\"text-align: right;\">\n",
       "      <th></th>\n",
       "      <th>Unnamed: 0</th>\n",
       "      <th>variance</th>\n",
       "      <th>skewness</th>\n",
       "      <th>curtosis</th>\n",
       "      <th>entropy</th>\n",
       "      <th>Class</th>\n",
       "    </tr>\n",
       "  </thead>\n",
       "  <tbody>\n",
       "    <tr>\n",
       "      <th>0</th>\n",
       "      <td>0</td>\n",
       "      <td>3.62160</td>\n",
       "      <td>8.6661</td>\n",
       "      <td>-2.8073</td>\n",
       "      <td>-0.44699</td>\n",
       "      <td>0</td>\n",
       "    </tr>\n",
       "    <tr>\n",
       "      <th>1</th>\n",
       "      <td>1</td>\n",
       "      <td>4.54590</td>\n",
       "      <td>8.1674</td>\n",
       "      <td>-2.4586</td>\n",
       "      <td>-1.46210</td>\n",
       "      <td>0</td>\n",
       "    </tr>\n",
       "    <tr>\n",
       "      <th>2</th>\n",
       "      <td>2</td>\n",
       "      <td>3.86600</td>\n",
       "      <td>-2.6383</td>\n",
       "      <td>1.9242</td>\n",
       "      <td>0.10645</td>\n",
       "      <td>0</td>\n",
       "    </tr>\n",
       "    <tr>\n",
       "      <th>3</th>\n",
       "      <td>3</td>\n",
       "      <td>3.45660</td>\n",
       "      <td>9.5228</td>\n",
       "      <td>-4.0112</td>\n",
       "      <td>-3.59440</td>\n",
       "      <td>0</td>\n",
       "    </tr>\n",
       "    <tr>\n",
       "      <th>4</th>\n",
       "      <td>4</td>\n",
       "      <td>0.32924</td>\n",
       "      <td>-4.4552</td>\n",
       "      <td>4.5718</td>\n",
       "      <td>-0.98880</td>\n",
       "      <td>0</td>\n",
       "    </tr>\n",
       "  </tbody>\n",
       "</table>\n",
       "</div>"
      ],
      "text/plain": [
       "   Unnamed: 0  variance  skewness  curtosis  entropy  Class \n",
       "0           0   3.62160    8.6661   -2.8073 -0.44699       0\n",
       "1           1   4.54590    8.1674   -2.4586 -1.46210       0\n",
       "2           2   3.86600   -2.6383    1.9242  0.10645       0\n",
       "3           3   3.45660    9.5228   -4.0112 -3.59440       0\n",
       "4           4   0.32924   -4.4552    4.5718 -0.98880       0"
      ]
     },
     "execution_count": 24,
     "metadata": {},
     "output_type": "execute_result"
    }
   ],
   "source": [
    "df_new = df.drop('Class',axis=1)\n",
    "X = df_new.to_numpy()\n",
    "X_norm = normalize(X, axis=0, norm='max')"
   ]
  },
  {
   "cell_type": "markdown",
   "id": "bbb24f94",
   "metadata": {},
   "source": [
    "## Learning graph using the same code as Q1\n",
    "Implementation of the paper : Kalofolias, V. [\"How to learn a graph from smooth signals\"](https://arxiv.org/abs/1601.02513), AISTATS, 2016\n",
    "\n",
    "Logic credits : https://github.com/rodrigo-pena/graph-learning which is under MIT License"
   ]
  },
  {
   "cell_type": "code",
   "execution_count": 9,
   "id": "7b710348",
   "metadata": {},
   "outputs": [],
   "source": [
    "def mapping(n):\n",
    "    #Total number of edges\n",
    "    ne = int(n*(n-1)/2)\n",
    "    r1 = np.zeros((ne, ))\n",
    "    r2 = np.zeros((ne, ))\n",
    "    itr = 0\n",
    "    for i in np.arange(1, n):\n",
    "        r1[itr: (itr + (n - i))] = i - 1\n",
    "        r2[itr: (itr + (n - i))] = np.arange(i, n)\n",
    "        itr = itr + n - i\n",
    "    row = np.concatenate((r1, r2))\n",
    "    col = np.concatenate((np.arange(0, ne), np.arange(0, ne)))\n",
    "    values = np.ones(len(row))\n",
    "    K = sparse.coo_matrix((values, (row, col)), shape=(n, ne))\n",
    "    return lambda w: K.dot(w), lambda d: K.transpose().dot(d)\n",
    "\n",
    "def learngraph(X,alpha=1,beta=1,step=0.5,maxit=1000, rtol=1e-5):\n",
    "    N = X.shape[0]\n",
    "    z = spatial.distance.pdist(X,'euclidean') # calculating pairwise distance\n",
    "    w0 = np.zeros(z.shape)\n",
    "    K, Kt = mapping(N)\n",
    "    norm_K = np.sqrt(2 * (N - 1))\n",
    "    \n",
    "    # Assemble functions in the objective\n",
    "    f1 = functions.func()\n",
    "    f1._eval = lambda w: 2 * np.dot(w, z)\n",
    "    f1._prox = lambda w, gamma: np.maximum(0, w - (2 * gamma * z))\n",
    "\n",
    "    f2 = functions.func()\n",
    "    f2._eval = lambda w: - alpha * np.sum(np.log(np.maximum(\n",
    "        np.finfo(np.float64).eps, K(w))))\n",
    "    f2._prox = lambda d, gamma: np.maximum(\n",
    "        0, 0.5 * (d + np.sqrt(d**2 + (4 * alpha * gamma))))\n",
    "\n",
    "    f3 = functions.func()\n",
    "    f3._eval = lambda w: beta * np.sum(w**2)\n",
    "    f3._grad = lambda w: 2 * beta * w\n",
    "    lipg = 2 * beta\n",
    "    \n",
    "    # Rescale stepsize\n",
    "    stepsize = step / (1 + lipg + norm_K)\n",
    "\n",
    "    # Solve problem\n",
    "    solver = solvers.mlfbf(L=K, Lt=Kt, step=stepsize)\n",
    "    problem = solvers.solve([f1, f2, f3], x0=w0, solver=solver, maxit=maxit,\n",
    "                            rtol=rtol)\n",
    "\n",
    "    # Transform weight matrix from vector form to matrix form\n",
    "    W = spatial.distance.squareform(problem['sol'])\n",
    "    W[W<0] = 0\n",
    "    return W"
   ]
  },
  {
   "cell_type": "code",
   "execution_count": 16,
   "id": "63e7720b",
   "metadata": {},
   "outputs": [
    {
     "name": "stdout",
     "output_type": "stream",
     "text": [
      "Solution found after 105 iterations:\n",
      "    objective function f(sol) = -1.008477e+02\n",
      "    stopping criterion: RTOL\n"
     ]
    }
   ],
   "source": [
    "beta=5\n",
    "alpha = 1\n",
    "W = learngraph(X_norm,beta = beta,alpha = 1)"
   ]
  },
  {
   "cell_type": "code",
   "execution_count": 17,
   "id": "e952a4b7",
   "metadata": {},
   "outputs": [
    {
     "name": "stdout",
     "output_type": "stream",
     "text": [
      "(1372, 1372)\n",
      "[[0.00000000e+00 5.42487216e-02 2.05675805e-07 ... 0.00000000e+00\n",
      "  5.92200903e-07 2.22733241e-07]\n",
      " [5.42487216e-02 0.00000000e+00 1.61711088e-08 ... 0.00000000e+00\n",
      "  4.02696206e-07 3.32285439e-08]\n",
      " [2.05675805e-07 1.61711088e-08 0.00000000e+00 ... 0.00000000e+00\n",
      "  5.89372787e-07 2.19905124e-07]\n",
      " ...\n",
      " [0.00000000e+00 0.00000000e+00 0.00000000e+00 ... 0.00000000e+00\n",
      "  1.35081142e-02 0.00000000e+00]\n",
      " [5.92200903e-07 4.02696206e-07 5.89372787e-07 ... 1.35081142e-02\n",
      "  0.00000000e+00 6.06430222e-07]\n",
      " [2.22733241e-07 3.32285439e-08 2.19905124e-07 ... 0.00000000e+00\n",
      "  6.06430222e-07 0.00000000e+00]]\n"
     ]
    }
   ],
   "source": [
    "print(W.shape)\n",
    "#print(np.around(W))\n",
    "print(W)"
   ]
  },
  {
   "cell_type": "code",
   "execution_count": null,
   "id": "3a1d9c98",
   "metadata": {},
   "outputs": [],
   "source": []
  }
 ],
 "metadata": {
  "kernelspec": {
   "display_name": "Python 3",
   "language": "python",
   "name": "python3"
  },
  "language_info": {
   "codemirror_mode": {
    "name": "ipython",
    "version": 3
   },
   "file_extension": ".py",
   "mimetype": "text/x-python",
   "name": "python",
   "nbconvert_exporter": "python",
   "pygments_lexer": "ipython3",
   "version": "3.8.8"
  }
 },
 "nbformat": 4,
 "nbformat_minor": 5
}
